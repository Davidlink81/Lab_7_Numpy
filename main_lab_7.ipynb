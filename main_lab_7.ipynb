{
 "cells": [
  {
   "cell_type": "code",
   "execution_count": 75,
   "id": "bf72c948-e06c-47bb-8e5d-72e20f4549c6",
   "metadata": {
    "tags": []
   },
   "outputs": [],
   "source": [
    "#1. Import the NUMPY package under the name np.\n",
    "import numpy as np"
   ]
  },
  {
   "cell_type": "code",
   "execution_count": 76,
   "id": "0bc75027-001b-4a05-bc25-68124156431f",
   "metadata": {
    "tags": []
   },
   "outputs": [
    {
     "name": "stdout",
     "output_type": "stream",
     "text": [
      "NUMPY version: 1.24.3\n"
     ]
    }
   ],
   "source": [
    "#2. Print the NUMPY version and the configuration.\n",
    "print(\"NUMPY version:\", np.__version__)"
   ]
  },
  {
   "cell_type": "code",
   "execution_count": 77,
   "id": "4a127dc2-3e6d-4649-938b-8fe5b9a56c2c",
   "metadata": {
    "tags": []
   },
   "outputs": [
    {
     "name": "stdout",
     "output_type": "stream",
     "text": [
      "\n",
      "Random a:\n",
      "[[[0.01804724 0.84121271 0.89656835 0.20836297 0.28470849]\n",
      "  [0.37637671 0.61588687 0.50231167 0.23914091 0.98076424]\n",
      "  [0.83983762 0.9965009  0.93058527 0.23585349 0.13215324]]\n",
      "\n",
      " [[0.55089943 0.78525117 0.66779834 0.91716497 0.38695266]\n",
      "  [0.01975025 0.1755606  0.48700359 0.40173949 0.74219861]\n",
      "  [0.6546975  0.65545621 0.0551612  0.20498119 0.03036943]]]\n"
     ]
    }
   ],
   "source": [
    "#3. Generate a 2x3x5 3-dimensional array with random values. Assign the array to variable \"a\"\n",
    "# Challenge: there are at least three easy ways that use numpy to generate random arrays. How many ways can you find?\n",
    "\n",
    "#4. Print a.\n",
    "\n",
    "#First way:\n",
    "a = np.random.random((2, 3, 5))\n",
    "print(\"\\nRandom a:\")\n",
    "print(a)"
   ]
  },
  {
   "cell_type": "code",
   "execution_count": 78,
   "id": "69e9789e-d518-4d03-a001-0e25b70ccb03",
   "metadata": {
    "tags": []
   },
   "outputs": [
    {
     "name": "stdout",
     "output_type": "stream",
     "text": [
      "\n",
      "Random a:\n",
      "[[[0.02600769 0.33485055 0.50852687 0.67186166 0.10360211]\n",
      "  [0.85130164 0.94471426 0.72178132 0.89309295 0.77408992]\n",
      "  [0.25259884 0.86757981 0.58685482 0.08916355 0.92957905]]\n",
      "\n",
      " [[0.76754321 0.29447067 0.64291765 0.92238358 0.2315638 ]\n",
      "  [0.14367337 0.45449659 0.53360715 0.14992806 0.81528098]\n",
      "  [0.68686787 0.88013715 0.82640743 0.94234739 0.14712156]]]\n"
     ]
    }
   ],
   "source": [
    "#Second way\n",
    "a = np.random.rand(2, 3, 5)\n",
    "print(\"\\nRandom a:\")\n",
    "print(a)"
   ]
  },
  {
   "cell_type": "code",
   "execution_count": 79,
   "id": "78b91df8-6d14-48c7-abdf-2286e0ff90b5",
   "metadata": {
    "tags": []
   },
   "outputs": [
    {
     "name": "stdout",
     "output_type": "stream",
     "text": [
      "\n",
      "Random a:\n",
      "[[[0.45982532 0.1615883  0.82190675 0.48592214 0.57861784]\n",
      "  [0.7680694  0.05550224 0.71747713 0.25776932 0.0817923 ]\n",
      "  [0.66352261 0.68237208 0.44874052 0.79626171 0.176852  ]]\n",
      "\n",
      " [[0.3360206  0.18778181 0.41869553 0.70084408 0.81571604]\n",
      "  [0.00620504 0.19671088 0.36047831 0.31422505 0.45079307]\n",
      "  [0.78770108 0.34619989 0.57782769 0.51887395 0.47961071]]]\n"
     ]
    }
   ],
   "source": [
    "#Third way\n",
    "a = np.random.random_sample((2, 3, 5))\n",
    "print(\"\\nRandom a:\")\n",
    "print(a)"
   ]
  },
  {
   "cell_type": "code",
   "execution_count": 80,
   "id": "4ec75361-bbc6-4763-913b-b85d971b2be9",
   "metadata": {
    "tags": []
   },
   "outputs": [
    {
     "name": "stdout",
     "output_type": "stream",
     "text": [
      "[[[1. 1. 1.]\n",
      "  [1. 1. 1.]]\n",
      "\n",
      " [[1. 1. 1.]\n",
      "  [1. 1. 1.]]\n",
      "\n",
      " [[1. 1. 1.]\n",
      "  [1. 1. 1.]]\n",
      "\n",
      " [[1. 1. 1.]\n",
      "  [1. 1. 1.]]\n",
      "\n",
      " [[1. 1. 1.]\n",
      "  [1. 1. 1.]]]\n"
     ]
    }
   ],
   "source": [
    "#5. Create a 5x2x3 3-dimensional array with all values equaling 1.\n",
    "#Assign the array to variable \"b\"\n",
    "b = np.ones((5, 2, 3))\n",
    "\n",
    "#6. Print b.\n",
    "print(b)"
   ]
  },
  {
   "cell_type": "code",
   "execution_count": 86,
   "id": "d20d16af-0543-4b7b-af55-c4f7fb57aa27",
   "metadata": {
    "tags": []
   },
   "outputs": [
    {
     "name": "stdout",
     "output_type": "stream",
     "text": [
      "'a' y 'b' no tienen el mismo tamaño.\n"
     ]
    },
    {
     "name": "stderr",
     "output_type": "stream",
     "text": [
      "/var/folders/zr/v_qv79zn4xv2dhqwl7djvy340000gn/T/ipykernel_20072/1335465900.py:6: DeprecationWarning: elementwise comparison failed; this will raise an error in the future.\n",
      "  if a==b:\n"
     ]
    }
   ],
   "source": [
    "#7. Do a and b have the same size? How do you prove that in Python code?\n",
    "\n",
    "a = np.random.random((2, 3, 5))\n",
    "b = np.ones((5,2,3))\n",
    "\n",
    "if a==b:\n",
    "    print(\"'a' y 'b' tienen el mismo tamaño.\")\n",
    "else:\n",
    "    print(\"'a' y 'b' no tienen el mismo tamaño.\")"
   ]
  },
  {
   "cell_type": "code",
   "execution_count": 112,
   "id": "2aab8c23-8c7d-4cde-88b9-69c0a9490a02",
   "metadata": {
    "tags": []
   },
   "outputs": [
    {
     "name": "stdout",
     "output_type": "stream",
     "text": [
      "Matrix e is not equal to matrix a.\n"
     ]
    }
   ],
   "source": [
    "are_equal = np.array_equal(a, b)\n",
    "\n",
    "# Print the result\n",
    "if are_equal:\n",
    "    print(\"Matrix e is equal to matrix a.\")\n",
    "else:\n",
    "    print(\"Matrix e is not equal to matrix a.\")"
   ]
  },
  {
   "cell_type": "code",
   "execution_count": 87,
   "id": "7efed5a5-3870-42bd-b12d-800c1b01027d",
   "metadata": {
    "tags": []
   },
   "outputs": [
    {
     "ename": "ValueError",
     "evalue": "operands could not be broadcast together with shapes (2,3,5) (5,2,3) ",
     "output_type": "error",
     "traceback": [
      "\u001b[0;31m---------------------------------------------------------------------------\u001b[0m",
      "\u001b[0;31mValueError\u001b[0m                                Traceback (most recent call last)",
      "Cell \u001b[0;32mIn[87], line 3\u001b[0m\n\u001b[1;32m      1\u001b[0m \u001b[38;5;66;03m#8. Are you able to add a and b? Why or why not?\u001b[39;00m\n\u001b[0;32m----> 3\u001b[0m c \u001b[38;5;241m=\u001b[39m a\u001b[38;5;241m+\u001b[39mb\n\u001b[1;32m      4\u001b[0m \u001b[38;5;28mprint\u001b[39m (c)\n",
      "\u001b[0;31mValueError\u001b[0m: operands could not be broadcast together with shapes (2,3,5) (5,2,3) "
     ]
    }
   ],
   "source": [
    "#8. Are you able to add a and b? Why or why not?\n",
    "\n",
    "c = a+b\n",
    "print (c) \n",
    "#Esta operación nos dará error porque las dos matrices tienen dimensiones diferentes."
   ]
  },
  {
   "cell_type": "code",
   "execution_count": 84,
   "id": "cac163aa-c806-4dac-8e04-13029bac2354",
   "metadata": {
    "tags": []
   },
   "outputs": [
    {
     "name": "stdout",
     "output_type": "stream",
     "text": [
      "\n",
      "Transposed b (c):\n",
      "[[[1. 1. 1. 1. 1.]\n",
      "  [1. 1. 1. 1. 1.]\n",
      "  [1. 1. 1. 1. 1.]]\n",
      "\n",
      " [[1. 1. 1. 1. 1.]\n",
      "  [1. 1. 1. 1. 1.]\n",
      "  [1. 1. 1. 1. 1.]]]\n"
     ]
    }
   ],
   "source": [
    "#9. Transpose b so that it has the same structure of a (i.e. become a 2x3x5 array). Assign the transposed array to varialbe \"c\".\n",
    "c = np.transpose(b, (1, 2, 0))\n",
    "\n",
    "#Transponemos la matriz b\n",
    "print(\"\\nTransposed b (c):\")\n",
    "print(c)"
   ]
  },
  {
   "cell_type": "code",
   "execution_count": 90,
   "id": "63fe8c57-fc43-4d8b-850b-d676290c37ed",
   "metadata": {
    "tags": []
   },
   "outputs": [
    {
     "name": "stdout",
     "output_type": "stream",
     "text": [
      "\n",
      "Random d:\n",
      "[[[1.00445395 1.21942737 1.41832949 1.44473673 1.22806883]\n",
      "  [1.46058188 1.70576369 1.37167849 1.73586312 1.5111411 ]\n",
      "  [1.2786261  1.78661907 1.47196147 1.22112938 1.77133352]]\n",
      "\n",
      " [[1.24810382 1.21392517 1.56445085 1.7749839  1.48495272]\n",
      "  [1.93756653 1.83831751 1.44459652 1.85032421 1.52761249]\n",
      "  [1.80268251 1.61472088 1.85573922 1.36238148 1.50365057]]]\n"
     ]
    }
   ],
   "source": [
    "#10. Try to add a and c. Now it should work. Assign the sum to varialbe \"d\". But why does it work now?\n",
    "\n",
    "#Vamos a sumar a y c\n",
    "d = a + c\n",
    "print(\"\\nMatriz d:\")\n",
    "print(d)\n",
    "# El motivo por el que ahora podemos sumar las dos variables es porque las dos matrices tienen las mismas dimensiones"
   ]
  },
  {
   "cell_type": "code",
   "execution_count": 96,
   "id": "83ab7b30-8d89-4720-863c-ffdda373e591",
   "metadata": {
    "tags": []
   },
   "outputs": [
    {
     "name": "stdout",
     "output_type": "stream",
     "text": [
      "\n",
      "La matriz 'a' es:\n",
      "[[[0.00445395 0.21942737 0.41832949 0.44473673 0.22806883]\n",
      "  [0.46058188 0.70576369 0.37167849 0.73586312 0.5111411 ]\n",
      "  [0.2786261  0.78661907 0.47196147 0.22112938 0.77133352]]\n",
      "\n",
      " [[0.24810382 0.21392517 0.56445085 0.7749839  0.48495272]\n",
      "  [0.93756653 0.83831751 0.44459652 0.85032421 0.52761249]\n",
      "  [0.80268251 0.61472088 0.85573922 0.36238148 0.50365057]]]\n",
      "\n",
      "La matriz 'd' es:\n",
      "[[[1.00445395 1.21942737 1.41832949 1.44473673 1.22806883]\n",
      "  [1.46058188 1.70576369 1.37167849 1.73586312 1.5111411 ]\n",
      "  [1.2786261  1.78661907 1.47196147 1.22112938 1.77133352]]\n",
      "\n",
      " [[1.24810382 1.21392517 1.56445085 1.7749839  1.48495272]\n",
      "  [1.93756653 1.83831751 1.44459652 1.85032421 1.52761249]\n",
      "  [1.80268251 1.61472088 1.85573922 1.36238148 1.50365057]]]\n"
     ]
    }
   ],
   "source": [
    "#11. Print a and d. Notice the difference and relation of the two array in terms of the values? Explain.\n",
    "\n",
    "print(\"\\nLa matriz 'a' es:\")\n",
    "print(a)\n",
    "print(\"\\nLa matriz 'd' es:\")\n",
    "print(d)\n",
    "\n",
    "#La diferencia en termino de valores es que la matriz 'a' tiene sus valores entre 0 y 1 y la matriz 'b' tiene sus valores entre 1 y 2. \n",
    "#La realación entre ellas es que tienen usan valores float."
   ]
  },
  {
   "cell_type": "code",
   "execution_count": 105,
   "id": "8dc3b7c2-c5b1-41ac-94ca-4b006d817b75",
   "metadata": {
    "tags": []
   },
   "outputs": [
    {
     "name": "stdout",
     "output_type": "stream",
     "text": [
      "\n",
      "Matriz e:\n",
      "[[[0.00445395 0.21942737 0.41832949 0.44473673 0.22806883]\n",
      "  [0.46058188 0.70576369 0.37167849 0.73586312 0.5111411 ]\n",
      "  [0.2786261  0.78661907 0.47196147 0.22112938 0.77133352]]\n",
      "\n",
      " [[0.24810382 0.21392517 0.56445085 0.7749839  0.48495272]\n",
      "  [0.93756653 0.83831751 0.44459652 0.85032421 0.52761249]\n",
      "  [0.80268251 0.61472088 0.85573922 0.36238148 0.50365057]]]\n"
     ]
    }
   ],
   "source": [
    "#12. Multiply a and c. Assign the result to e.\n",
    "#Vamos a multiplicar 'a' y 'c' y guardarlo en una variable llamada 'e'.\n",
    "e = a * c\n",
    "print(\"\\nMatriz e:\")\n",
    "print(e)"
   ]
  },
  {
   "cell_type": "code",
   "execution_count": 113,
   "id": "9709de80-d88c-4750-a48d-0743ac21a50a",
   "metadata": {
    "tags": []
   },
   "outputs": [
    {
     "name": "stdout",
     "output_type": "stream",
     "text": [
      "La matriz 'e' no es igual a la matriz 'a'\n"
     ]
    }
   ],
   "source": [
    "#13. Does e equal to a? Why or why not?\n",
    "son_iguales = np.array_equal(a, e)\n",
    "\n",
    "if son_iguales:\n",
    "    print(\"La matriz 'e' no es igual a la matriz 'a'\")\n",
    "else:\n",
    "    print(\"La matriz e es igual a la matriz 'e'\")\n",
    "    \n",
    "#Las matrices no son iguales ya que los valores difieren de unas a otras, todo y tener las mismas dimensiones."
   ]
  },
  {
   "cell_type": "code",
   "execution_count": 122,
   "id": "4dd5e702-3eb5-4b47-a65c-9c431f99178f",
   "metadata": {
    "tags": []
   },
   "outputs": [
    {
     "name": "stdout",
     "output_type": "stream",
     "text": [
      "valor máximo de la matriz 'd': 1.9375665302567673\n",
      "valor mínimo de la matriz 'd': 1.0044539528768102\n",
      "valor medio de la matriz 'd': 1.5217907524732928\n"
     ]
    }
   ],
   "source": [
    "#14. Identify the max, min, and mean values in d. Assign those values to variables \"d_max\", \"d_min\", and \"d_mean\"\n",
    "\n",
    "#Valor máximo en d:\n",
    "d_max = np.max(d)\n",
    "print(\"valor máximo de la matriz 'd':\" ,d_max)\n",
    "\n",
    "#Valor mínimo en d:\n",
    "d_min = np.min(d)\n",
    "print(\"valor mínimo de la matriz 'd':\" ,d_min)\n",
    "\n",
    "#Valor medio en d:\n",
    "d_mean = np.mean(d)\n",
    "print(\"valor medio de la matriz 'd':\" ,d_mean) "
   ]
  },
  {
   "cell_type": "code",
   "execution_count": 123,
   "id": "1e8c37d5-7542-467c-91ea-54ce4634494c",
   "metadata": {
    "tags": []
   },
   "outputs": [
    {
     "name": "stdout",
     "output_type": "stream",
     "text": [
      "[[[0.00445395 0.21942737 0.41832949 0.44473673 0.22806883]\n",
      "  [0.46058188 0.70576369 0.37167849 0.73586312 0.5111411 ]\n",
      "  [0.2786261  0.78661907 0.47196147 0.22112938 0.77133352]]\n",
      "\n",
      " [[0.24810382 0.21392517 0.56445085 0.7749839  0.48495272]\n",
      "  [0.93756653 0.83831751 0.44459652 0.85032421 0.52761249]\n",
      "  [0.80268251 0.61472088 0.85573922 0.36238148 0.50365057]]]\n"
     ]
    }
   ],
   "source": [
    "#15. Now we want to label the values in d. First create an empty array \"f\" with the same shape (i.e. 2x3x5) as d using `np.empty`.\n",
    "\n",
    "#Vamos a crear un matriz vacia.\n",
    "f=np.empty((2, 3, 5))\n",
    "print(f)"
   ]
  },
  {
   "cell_type": "code",
   "execution_count": 131,
   "id": "80b958e4-d256-4220-ad38-c006082d68ff",
   "metadata": {
    "tags": []
   },
   "outputs": [],
   "source": [
    "#16.Populate the values in f. \n",
    "\"\"\"\n",
    "For each value in d, if it's larger than d_min but smaller than d_mean, assign 25 to the corresponding value in f.\n",
    "If a value in d is larger than d_mean but smaller than d_max, assign 75 to the corresponding value in f.\n",
    "If a value equals to d_mean, assign 50 to the corresponding value in f.\n",
    "Assign 0 to the corresponding value(s) in f for d_min in d.\n",
    "Assign 100 to the corresponding value(s) in f for d_max in d.\n",
    "In the end, f should have only the following values: 0, 25, 50, 75, and 100.\n",
    "Note: you don't have to use Numpy in this question.\n",
    "\"\"\"\n",
    "\n",
    "f=np.empty((2, 3, 5))\n",
    "\n",
    "for i in range(2):\n",
    "    for j in range(3):\n",
    "        for k in range(5):\n",
    "            if d[i, j, k] > d_min and d[i, j, k] < d_mean:\n",
    "                f[i][j][k] = 25\n",
    "            elif d[i, j, k] > d_mean and d[i, j, k] < d_max:\n",
    "                f[i][j][k] = 75\n",
    "            elif d[i, j, k] == d_mean:\n",
    "                f[i][j][k] = 50\n",
    "            elif d[i, j, k] == d_min:\n",
    "                f[i][j][k] = 0\n",
    "            elif d[i, j, k] == d_max:\n",
    "                f[i][j][k] = 100"
   ]
  },
  {
   "cell_type": "code",
   "execution_count": 138,
   "id": "151444de-302e-401d-adcb-d3f42994ad24",
   "metadata": {
    "tags": []
   },
   "outputs": [
    {
     "name": "stdout",
     "output_type": "stream",
     "text": [
      "\n",
      "Populated array f:\n",
      "[[[  0.  25.  25.  25.  25.]\n",
      "  [ 25.  75.  25.  75.  25.]\n",
      "  [ 25.  75.  25.  25.  75.]]\n",
      "\n",
      " [[ 25.  25.  75.  75.  25.]\n",
      "  [100.  75.  25.  75.  75.]\n",
      "  [ 75.  75.  75.  25.  25.]]]\n"
     ]
    }
   ],
   "source": [
    "\n",
    "#17. Print d and f. Do you have your expected f?\n",
    "\"\"\"For instance, if your d is:\n",
    "array([[[1.85836099, 1.67064465, 1.62576044, 1.40243961, 1.88454931],\n",
    "        [1.75354326, 1.69403643, 1.36729252, 1.61415071, 1.12104981],\n",
    "        [1.72201435, 1.1862918 , 1.87078449, 1.7726778 , 1.88180042]],\n",
    "\n",
    "       [[1.44747908, 1.31673383, 1.02000951, 1.52218947, 1.97066381],\n",
    "        [1.79129243, 1.74983003, 1.96028037, 1.85166831, 1.65450881],\n",
    "        [1.18068344, 1.9587381 , 1.00656599, 1.93402165, 1.73514584]]])\n",
    "\n",
    "Your f should be:\n",
    "array([[[ 75.,  75.,  75.,  25.,  75.],\n",
    "        [ 75.,  75.,  25.,  25.,  25.],\n",
    "        [ 75.,  25.,  75.,  75.,  75.]],\n",
    "\n",
    "       [[ 25.,  25.,  25.,  25., 100.],\n",
    "        [ 75.,  75.,  75.,  75.,  75.],\n",
    "        [ 25.,  75.,   0.,  75.,  75.]]])\n",
    "\"\"\"\n",
    "\n",
    "                \n",
    "print(\"\\nPopulated array f:\")\n",
    "print(f)\n",
    "#El resultado es el esperado"
   ]
  },
  {
   "cell_type": "code",
   "execution_count": 149,
   "id": "2fc2edaa-af3b-4094-bc2e-293a860c1011",
   "metadata": {
    "tags": []
   },
   "outputs": [
    {
     "name": "stdout",
     "output_type": "stream",
     "text": [
      "[[['A' 'B' 'B' 'B' 'B']\n",
      "  ['B' 'D' 'B' 'D' 'B']\n",
      "  ['B' 'D' 'B' 'B' 'D']]\n",
      "\n",
      " [['B' 'B' 'D' 'D' 'B']\n",
      "  ['E' 'D' 'B' 'D' 'D']\n",
      "  ['D' 'D' 'D' 'B' 'B']]]\n"
     ]
    }
   ],
   "source": [
    "\n",
    "#18. Bonus question: instead of using numbers (i.e. 0, 25, 50, 75, and 100), how to use string values (\"A\", \"B\", \"C\", \"D\", and \"E\") to label the array elements?\n",
    "\"\"\"\n",
    " You are expecting the result to be:\n",
    "array([[[ 'D',  'D',  'D',  'B',  'D'],\n",
    "        [ 'D',  'D',  'B',  'B',  'B'],\n",
    "        [ 'D',  'B',  'D',  'D',  'D']],\n",
    "\n",
    "       [[ 'B',  'B',  'B',  'B',  'E'],\n",
    "        [ 'D',  'D',  'D',  'D',  'D'],\n",
    "        [ 'B',  'D',   'A',  'D', 'D']]])\n",
    "Again, you don't need Numpy in this question.\n",
    "\"\"\"\n",
    "f=np.empty((2, 3, 5), dtype=str)\n",
    "#Vamos a crear un diccionario para hacer una key value, asignar a cada valor un letra.\n",
    "\n",
    "etiqueta = {0: \"A\",25: \"B\",50: \"C\",75: \"D\",100: \"E\"}\n",
    "\n",
    "for i in range(2):\n",
    "    for j in range(3):\n",
    "        for k in range(5):\n",
    "            if d[i, j, k] > d_min and d[i, j, k] < d_mean:\n",
    "                f[i][j][k] = etiqueta[25]\n",
    "            elif d[i, j, k] > d_mean and d[i, j, k] < d_max:\n",
    "                f[i][j][k] = etiqueta[75]\n",
    "            elif d[i, j, k] == d_mean:\n",
    "                f[i][j][k] = etiqueta[50]\n",
    "            elif d[i, j, k] == d_min:\n",
    "                f[i][j][k] = etiqueta[0]\n",
    "            elif d[i, j, k] == d_max:\n",
    "                f[i][j][k] = etiqueta[100]\n",
    "print(f)"
   ]
  },
  {
   "cell_type": "code",
   "execution_count": null,
   "id": "b7f31cfb-25ed-4cee-942f-2a01e6bef3fb",
   "metadata": {},
   "outputs": [],
   "source": []
  }
 ],
 "metadata": {
  "kernelspec": {
   "display_name": "Python 3 (ipykernel)",
   "language": "python",
   "name": "python3"
  },
  "language_info": {
   "codemirror_mode": {
    "name": "ipython",
    "version": 3
   },
   "file_extension": ".py",
   "mimetype": "text/x-python",
   "name": "python",
   "nbconvert_exporter": "python",
   "pygments_lexer": "ipython3",
   "version": "3.11.5"
  }
 },
 "nbformat": 4,
 "nbformat_minor": 5
}
